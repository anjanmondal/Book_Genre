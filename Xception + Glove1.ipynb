{
 "cells": [
  {
   "cell_type": "code",
   "execution_count": 48,
   "metadata": {},
   "outputs": [
    {
     "name": "stderr",
     "output_type": "stream",
     "text": [
      "/usr/local/lib/python3.5/dist-packages/ipykernel_launcher.py:5: UserWarning: Update your `Model` call to the Keras 2 API: `Model(outputs=Tensor(\"av..., inputs=Tensor(\"in...)`\n",
      "  \"\"\"\n"
     ]
    }
   ],
   "source": [
    "import keras\n",
    "from keras.models import Model\n",
    "from keras.applications.xception import preprocess_input\n",
    "base_model = keras.applications.Xception(weights='imagenet')\n",
    "x_model = Model(input=base_model.input, output=base_model.get_layer('avg_pool').output)\n",
    "image_size = (299, 299)"
   ]
  },
  {
   "cell_type": "code",
   "execution_count": 2,
   "metadata": {},
   "outputs": [
    {
     "name": "stdout",
     "output_type": "stream",
     "text": [
      "(23805, 3)\n",
      "(6800, 3)\n",
      "(3400, 3)\n"
     ]
    }
   ],
   "source": [
    "import pandas as pd\n",
    "train_df = pd.read_csv(\"./data/train/train5_main.csv\")\n",
    "test_df = pd.read_csv(\"./data/test/test5_main.csv\")\n",
    "val_df = pd.read_csv(\"./data/validation/val5_main.csv\")\n",
    "print(train_df.shape)\n",
    "print(val_df.shape)\n",
    "print(test_df.shape)"
   ]
  },
  {
   "cell_type": "code",
   "execution_count": 3,
   "metadata": {},
   "outputs": [],
   "source": [
    "#A data generator function. Give the train csv as the pandas dataframe, batch size, the dictionary which maps \n",
    "#the genre to it's corresponding index and the doc2vec model which will give the title features, given the title id\n",
    "from keras.utils import to_categorical\n",
    "from keras.preprocessing.image import img_to_array, load_img\n",
    "num_classes = 5\n",
    "genre_to_index = {'Children':0,'Cookbooks, Food & Wine':1,'Law':2,'Medical Books':3,'Travel':4}\n",
    "\n",
    "def train_generator_func(train_df, batch_size):\n",
    "    \n",
    "    j = 0\n",
    "    #temp = 0\n",
    "   \n",
    "    temp = 0\n",
    "    batch_feature_img = np.zeros((batch_size, 299, 299, 3), dtype = 'float32')\n",
    "    batch_labels = [None] * batch_size\n",
    "    \n",
    "   # while True:\n",
    "    for index, row in train_df.iterrows():               \n",
    "\n",
    "        original = load_img(row['loc'], target_size=(299, 299))\n",
    "        numpy_image = img_to_array(original)\n",
    "        numpy_image_temp = numpy_image / 255.\n",
    "        batch_feature_img[j] = numpy_image_temp\n",
    "\n",
    "        batch_labels[j] = row['genre']\n",
    "        j = j + 1\n",
    "        if(j == batch_size):\n",
    "\n",
    "            j = 0\n",
    "            yield(batch_feature_img, batch_labels)\n",
    "\n",
    "#We will use batch_size as 63, meaning the steps_per_epoch will be 33327 / 63 = 529. \n",
    "\n",
    "def validation_generator_func(val_df, batch_size):\n",
    "    \n",
    "    j = 0\n",
    "    batch_feature_img = np.zeros((batch_size, 299, 299, 3), dtype = 'float32')\n",
    "    batch_labels = [None] * batch_size\n",
    "\n",
    "    #while True:\n",
    "    for index, row in val_df.iterrows():\n",
    "\n",
    "            original = load_img(row['loc'], target_size=(299, 299))\n",
    "            numpy_image = img_to_array(original)\n",
    "            numpy_image_temp = numpy_image / 255.\n",
    "            batch_feature_img[j] = numpy_image_temp\n",
    "\n",
    "            batch_labels[j] = row['genre']\n",
    "            j = j + 1\n",
    "            if(j == batch_size):\n",
    "                j = 0\n",
    "                yield(batch_feature_img,batch_labels)\n"
   ]
  },
  {
   "cell_type": "code",
   "execution_count": 33,
   "metadata": {},
   "outputs": [],
   "source": [
    "# A test generator function.\n",
    "def test_generator_func(test_df, batch_size):\n",
    "    \n",
    "    j = 0\n",
    "    batch_feature_img = np.zeros((batch_size, 299, 299, 3), dtype = 'float32')\n",
    "    batch_labels = [None] * batch_size\n",
    "\n",
    "    #while True:\n",
    "    for index, row in test_df.iterrows():\n",
    "\n",
    "            original = load_img(row['loc'], target_size=(299, 299))\n",
    "            numpy_image = img_to_array(original)\n",
    "            numpy_image_temp = numpy_image / 255.\n",
    "            batch_feature_img[j] = numpy_image_temp\n",
    "\n",
    "            batch_labels[j] = row['genre']\n",
    "            j = j + 1\n",
    "            if(j == batch_size):\n",
    "                j = 0\n",
    "                yield(batch_feature_img,batch_labels)\n"
   ]
  },
  {
   "cell_type": "code",
   "execution_count": null,
   "metadata": {},
   "outputs": [],
   "source": [
    "# The next three cells extract training features, validation features and testing features. \n",
    "import numpy as np\n",
    "train_features = np.zeros((23805, 2048))\n",
    "train_labels = [None] * 23805\n",
    "batch_size = 45\n",
    "train_generator = train_generator_func(train_df, batch_size)\n",
    "\n",
    "\n",
    "i = 0\n",
    "for inputs_batch,batch_labels in train_generator:\n",
    "    features_batch = x_model.predict(inputs_batch)\n",
    "#     features_batch.shape = (45, 25088)\n",
    "    features_batch = features_batch.reshape((45,2048))\n",
    "    train_features[i * batch_size : (i + 1) * batch_size] = features_batch\n",
    "    train_labels[i * batch_size : (i + 1) * batch_size] = batch_labels\n",
    "    i += 1\n",
    "    print(i)"
   ]
  },
  {
   "cell_type": "code",
   "execution_count": null,
   "metadata": {},
   "outputs": [],
   "source": [
    "import numpy as np\n",
    "val_features = np.zeros((6800, 2048))\n",
    "val_labels = [None] * 6800\n",
    "batch_size = 68\n",
    "val_generator = validation_generator_func(val_df, batch_size)\n",
    "\n",
    "\n",
    "i = 0\n",
    "for inputs_batch,batch_labels in val_generator:\n",
    "    features_batch = x_model.predict(inputs_batch)\n",
    "    features_batch = features_batch.reshape((68,2048))\n",
    "    val_features[i * batch_size : (i + 1) * batch_size] = features_batch\n",
    "    val_labels[i * batch_size : (i + 1) * batch_size] = batch_labels\n",
    "    i += 1\n",
    "    print(i)"
   ]
  },
  {
   "cell_type": "code",
   "execution_count": null,
   "metadata": {},
   "outputs": [],
   "source": [
    "import numpy as np\n",
    "test_features = np.zeros((3400, 2048))\n",
    "test_labels = [None] * 3400\n",
    "batch_size = 34\n",
    "test_generator = test_generator_func(test_df, batch_size)\n",
    "\n",
    "\n",
    "i = 0\n",
    "for inputs_batch,batch_labels in test_generator:\n",
    "    features_batch = x_model.predict(inputs_batch)\n",
    "    features_batch = features_batch.reshape((34,2048))\n",
    "    test_features[i * batch_size : (i + 1) * batch_size] = features_batch\n",
    "    test_labels[i * batch_size : (i + 1) * batch_size] = batch_labels\n",
    "    i += 1\n",
    "    print(i)"
   ]
  },
  {
   "cell_type": "code",
   "execution_count": 53,
   "metadata": {},
   "outputs": [],
   "source": [
    "# No longer needed. \n",
    "# import pickle\n",
    "# with open(\"train_labels_x_main.pkl\", \"wb\") as f:\n",
    "#     pickle.dump(train_labels,f)\n",
    "# with open(\"train_features_x_main.pkl\", \"wb\") as f:\n",
    "#     pickle.dump(train_features,f)\n",
    "# with open(\"val_labels_x_main.pkl\", \"wb\") as f:\n",
    "#     pickle.dump(val_labels,f)\n",
    "# with open(\"val_features_x_main.pkl\", \"wb\") as f:\n",
    "#     pickle.dump(val_features,f)\n",
    "# with open(\"test_labels_x_main.pkl\", \"wb\") as f:\n",
    "#     pickle.dump(test_labels,f)\n",
    "# with open(\"test_features_x_main.pkl\", \"wb\") as f:\n",
    "#     pickle.dump(test_features,f)"
   ]
  },
  {
   "cell_type": "code",
   "execution_count": 1,
   "metadata": {},
   "outputs": [],
   "source": [
    "# Importing features extracted from GloVe\n",
    "import pickle\n",
    "with open(\"train_labels_x_main.pkl\", \"rb\") as f:\n",
    "    train_labels = pickle.load(f)\n",
    "with open(\"val_labels_x_main.pkl\", \"rb\") as f:\n",
    "    val_labels = pickle.load(f)\n",
    "with open(\"train_features_x_main.pkl\", \"rb\") as f:\n",
    "    train_features = pickle.load(f)\n",
    "with open(\"val_features_x_main.pkl\", \"rb\") as f:\n",
    "    val_features = pickle.load(f)\n",
    "with open(\"test_labels_x_main.pkl\", \"rb\") as f:\n",
    "    test_labels = pickle.load(f)\n",
    "with open(\"test_features_x_main.pkl\", \"rb\") as f:\n",
    "    test_features = pickle.load(f)"
   ]
  },
  {
   "cell_type": "code",
   "execution_count": 7,
   "metadata": {},
   "outputs": [],
   "source": [
    "#This cell contains the code for the function to plot the confusion matrix. Run the cell where this function is \n",
    "#called to actually plot the matrix.\n",
    "import itertools\n",
    "import numpy as np\n",
    "import matplotlib.pyplot as plt\n",
    "\n",
    "from sklearn import svm, datasets\n",
    "from sklearn.model_selection import train_test_split\n",
    "from sklearn.metrics import confusion_matrix\n",
    "\n",
    "def plot_confusion_matrix(cm, classes,\n",
    "                          normalize=False,\n",
    "                          title='Confusion matrix',\n",
    "                          cmap=plt.cm.Blues):\n",
    "    \"\"\"\n",
    "    This function prints and plots the confusion matrix.\n",
    "    Normalization can be applied by setting `normalize=True`.\n",
    "    \"\"\"\n",
    "    if normalize:\n",
    "        cm = cm.astype('float') / cm.sum(axis=1)[:, np.newaxis]\n",
    "        print(\"Normalized confusion matrix\")\n",
    "    else:\n",
    "        print('Confusion matrix, without normalization')\n",
    "\n",
    "    print(cm)\n",
    "\n",
    "    plt.imshow(cm, interpolation='nearest', cmap=cmap)\n",
    "    plt.title(title)\n",
    "    plt.colorbar()\n",
    "    tick_marks = np.arange(len(classes))\n",
    "    plt.xticks(tick_marks, classes, rotation=45)\n",
    "    plt.yticks(tick_marks, classes)\n",
    "\n",
    "    fmt = '.2f' if normalize else 'd'\n",
    "    thresh = cm.max() / 2.\n",
    "    for i, j in itertools.product(range(cm.shape[0]), range(cm.shape[1])):\n",
    "        plt.text(j, i, format(cm[i, j], fmt),\n",
    "                 horizontalalignment=\"center\",\n",
    "                 color=\"white\" if cm[i, j] > thresh else \"black\")\n",
    "\n",
    "    plt.ylabel('True label')\n",
    "    plt.xlabel('Predicted label')\n",
    "    plt.tight_layout()\n",
    "\n"
   ]
  },
  {
   "cell_type": "code",
   "execution_count": null,
   "metadata": {},
   "outputs": [],
   "source": [
    "# ---- WORKING OF ALL MODELS BELOW --------"
   ]
  },
  {
   "cell_type": "code",
   "execution_count": 2,
   "metadata": {},
   "outputs": [
    {
     "name": "stdout",
     "output_type": "stream",
     "text": [
      "0.6704411764705882\n",
      "                        precision    recall  f1-score   support\n",
      "\n",
      "              Children       0.75      0.76      0.75      1360\n",
      "Cookbooks, Food & Wine       0.82      0.74      0.78      1360\n",
      "                   Law       0.58      0.58      0.58      1360\n",
      "         Medical Books       0.58      0.61      0.59      1360\n",
      "                Travel       0.65      0.66      0.66      1360\n",
      "\n",
      "           avg / total       0.67      0.67      0.67      6800\n",
      "\n"
     ]
    }
   ],
   "source": [
    "# Xception model alone\n",
    "import pickle\n",
    "with open(\"train_labels_x_main.pkl\", \"rb\") as f:\n",
    "    train_labels = pickle.load(f)\n",
    "with open(\"val_labels_x_main.pkl\", \"rb\") as f:\n",
    "    val_labels = pickle.load(f)\n",
    "with open(\"train_features_x_main.pkl\", \"rb\") as f:\n",
    "    train_features = pickle.load(f)\n",
    "with open(\"val_features_x_main.pkl\", \"rb\") as f:\n",
    "    val_features = pickle.load(f)\n",
    "with open(\"test_labels_x_main.pkl\", \"rb\") as f:\n",
    "    test_labels = pickle.load(f)\n",
    "with open(\"test_features_x_main.pkl\", \"rb\") as f:\n",
    "    test_features = pickle.load(f)\n",
    "\n",
    "from sklearn.utils import shuffle\n",
    "train_features_shuffled,train_labels_shuffled = shuffle(train_features,train_labels,random_state = 0)\n",
    "\n",
    "val_features_shuffled,val_labels_shuffled = shuffle(val_features,val_labels,random_state = 0)\n",
    "\n",
    "test_features_shuffled,test_labels_shuffled = shuffle(test_features,test_labels,random_state = 0)\n",
    "    \n",
    "with open(\"Xception_Logreg_main.pkl\",\"rb\") as f:\n",
    "    logreg = pickle.load(f)\n",
    "from sklearn.metrics import accuracy_score,classification_report\n",
    "predictions = logreg.predict(val_features_shuffled)\n",
    "print(accuracy_score(val_labels_shuffled,predictions))\n",
    "print(classification_report(val_labels_shuffled,predictions))\n",
    "from pandas_ml import ConfusionMatrix\n",
    "confusion_matrix = ConfusionMatrix(val_labels_shuffled,predictions)\n",
    "# confusion_matrix.plot()\n",
    "# class_names = [\"Children's Books\",\"Cookbooks\",\"Law\",\"Medical Books\",\"Travel\"]\n",
    "# confusion_matrix.plot(class_names = class_names)"
   ]
  },
  {
   "cell_type": "code",
   "execution_count": 8,
   "metadata": {},
   "outputs": [
    {
     "name": "stdout",
     "output_type": "stream",
     "text": [
      "Confusion matrix, without normalization\n",
      "[[1034   71   46   65  144]\n",
      " [ 101 1012   63  100   84]\n",
      " [  62   34  790  329  145]\n",
      " [  70   62  299  827  102]\n",
      " [ 118   56  173  117  896]]\n",
      "Normalized confusion matrix\n",
      "[[0.76 0.05 0.03 0.05 0.11]\n",
      " [0.07 0.74 0.05 0.07 0.06]\n",
      " [0.05 0.03 0.58 0.24 0.11]\n",
      " [0.05 0.05 0.22 0.61 0.07]\n",
      " [0.09 0.04 0.13 0.09 0.66]]\n"
     ]
    },
    {
     "data": {
      "image/png": "[encoded data removed]",
      "text/plain": [
       "<matplotlib.figure.Figure at 0x7f537d351b00>"
      ]
     },
     "metadata": {},
     "output_type": "display_data"
    },
    {
     "data": {
      "image/png": "[encoded data removed]",
      "text/plain": [
       "<matplotlib.figure.Figure at 0x7f537d351438>"
      ]
     },
     "metadata": {},
     "output_type": "display_data"
    }
   ],
   "source": [
    "# Compute confusion matrix (run this and the above cell for the matrix)\n",
    "class_names = [\"Children's Books\",\"Cookbooks\",\"Law\",\"Medical Books\",\"Travel\"]\n",
    "cnf_matrix = confusion_matrix(val_labels_shuffled,predictions)\n",
    "np.set_printoptions(precision=2)\n",
    "\n",
    "# Plot non-normalized confusion matrix\n",
    "plt.figure()\n",
    "plot_confusion_matrix(cnf_matrix, classes=class_names,\n",
    "                      title='Confusion matrix, without normalization')\n",
    "\n",
    "# Plot normalized confusion matrix\n",
    "plt.figure()\n",
    "plot_confusion_matrix(cnf_matrix, classes=class_names, normalize=True,\n",
    "                      title='Normalized confusion matrix')\n",
    "\n",
    "plt.show()"
   ]
  },
  {
   "cell_type": "code",
   "execution_count": 2,
   "metadata": {},
   "outputs": [
    {
     "name": "stdout",
     "output_type": "stream",
     "text": [
      "0.8622058823529412\n",
      "                        precision    recall  f1-score   support\n",
      "\n",
      "      Children's Books       0.77      0.81      0.79      1360\n",
      "Cookbooks, Food & Wine       0.92      0.90      0.91      1360\n",
      "                   Law       0.89      0.86      0.87      1360\n",
      "         Medical Books       0.89      0.88      0.88      1360\n",
      "                Travel       0.85      0.87      0.86      1360\n",
      "\n",
      "           avg / total       0.86      0.86      0.86      6800\n",
      "\n",
      "[[1101   53   52   40  114]\n",
      " [  79 1222    8   22   29]\n",
      " [  65   10 1171   71   43]\n",
      " [  69   16   68 1192   15]\n",
      " [ 114   26   23   20 1177]]\n"
     ]
    }
   ],
   "source": [
    "# Glove Model Alone\n",
    "import pickle\n",
    "import matplotlib.pyplot as plt\n",
    "\n",
    "with open(\"./title_classification/Final_Logreg_glove_main.pkl\",\"rb\") as f:\n",
    "    logreg = pickle.load(f)\n",
    "with open('./title_classification/pretrained_glove_val_main_vectors', 'rb') as f:\n",
    "    title_test_vectors = pickle.load(f) #\n",
    "with open('./title_classification/train_test_glove_main.pkl','rb') as f:  # Python 3: open(..., 'rb')\n",
    "     X_train,X_test,X_val,y_train,y_test,y_val,y_genre_train,y_genre_test,y_genre_test_final = pickle.load(f)#\n",
    "    \n",
    "from sklearn.metrics import accuracy_score,classification_report,confusion_matrix\n",
    "predictions = logreg.predict(title_test_vectors)\n",
    "print(accuracy_score(y_genre_test_final,predictions))\n",
    "print(classification_report(y_genre_test_final,predictions))\n",
    "# print(confusion_matrix(y_genre_test_final,predictions))\n",
    "# confusion_matrx = confusion_matrix(y_genre_test_final,predictions)"
   ]
  },
  {
   "cell_type": "code",
   "execution_count": 3,
   "metadata": {},
   "outputs": [
    {
     "name": "stdout",
     "output_type": "stream",
     "text": [
      "0.8723529411764706\n",
      "                        precision    recall  f1-score   support\n",
      "\n",
      "              Children       0.84      0.85      0.85      1360\n",
      "Cookbooks, Food & Wine       0.92      0.91      0.91      1360\n",
      "                   Law       0.88      0.85      0.87      1360\n",
      "         Medical Books       0.87      0.87      0.87      1360\n",
      "                Travel       0.86      0.88      0.87      1360\n",
      "\n",
      "           avg / total       0.87      0.87      0.87      6800\n",
      "\n"
     ]
    }
   ],
   "source": [
    "#Combined Model\n",
    "\n",
    "import pickle\n",
    "import numpy as np\n",
    "from glove import Corpus, Glove\n",
    "\n",
    "with open(\"train_labels_x_main.pkl\", \"rb\") as f:\n",
    "    train_labels = pickle.load(f)\n",
    "with open(\"val_labels_x_main.pkl\", \"rb\") as f:\n",
    "    test_labels = pickle.load(f)\n",
    "with open(\"train_features_x_main.pkl\", \"rb\") as f:\n",
    "    train_features = pickle.load(f)\n",
    "with open(\"val_features_x_main.pkl\", \"rb\") as f:\n",
    "    test_features = pickle.load(f)\n",
    "with open(\"test_labels_x_main.pkl\", \"rb\") as f:\n",
    "    test_labels = pickle.load(f)\n",
    "with open(\"test_features_x_main.pkl\", \"rb\") as f:\n",
    "    test_features = pickle.load(f)\n",
    "with open('./title_classification/pretrained_glove_train_main_vectors', 'rb') as f:\n",
    "    glove_train_vectors = pickle.load(f)\n",
    "with open('./title_classification/pretrained_glove_val_main_vectors', 'rb') as f:\n",
    "    glove_val_vectors = pickle.load(f)\n",
    "with open('./title_classification/pretrained_glove_test_main_vectors', 'rb') as f:\n",
    "    glove_test_vectors = pickle.load(f)\n",
    "\n",
    "\n",
    "final_input_features = np.concatenate([train_features, glove_train_vectors], axis= 1)\n",
    "final_val_features = np.concatenate([test_features, glove_test_vectors], axis= 1)\n",
    "final_test_features = np.concatenate([test_features, glove_test_vectors], axis= 1)\n",
    "\n",
    "with open(\"combined_logreg_main.pkl\",\"rb\") as f:\n",
    "    final_logreg_model = pickle.load(f)\n",
    "\n",
    "from sklearn.metrics import accuracy_score,classification_report,confusion_matrix\n",
    "predictions = final_logreg_model.predict(final_test_features)\n",
    "print(accuracy_score(test_labels,predictions))\n",
    "print(classification_report(test_labels,predictions))\n",
    "\n",
    "    "
   ]
  }
 ],
 "metadata": {
  "kernelspec": {
   "display_name": "Python 3",
   "language": "python",
   "name": "python3"
  },
  "language_info": {
   "codemirror_mode": {
    "name": "ipython",
    "version": 3
   },
   "file_extension": ".py",
   "mimetype": "text/x-python",
   "name": "python",
   "nbconvert_exporter": "python",
   "pygments_lexer": "ipython3",
   "version": "3.6.5"
  }
 },
 "nbformat": 4,
 "nbformat_minor": 2
}
